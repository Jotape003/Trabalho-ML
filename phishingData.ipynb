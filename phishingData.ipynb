{
 "cells": [
  {
   "cell_type": "code",
   "execution_count": 12,
   "id": "990ff1d3",
   "metadata": {},
   "outputs": [
    {
     "name": "stdout",
     "output_type": "stream",
     "text": [
      "Requirement already satisfied: pandas in c:\\users\\jpedr\\appdata\\local\\packages\\pythonsoftwarefoundation.python.3.11_qbz5n2kfra8p0\\localcache\\local-packages\\python311\\site-packages (2.2.3)\n",
      "Requirement already satisfied: scipy in c:\\users\\jpedr\\appdata\\local\\packages\\pythonsoftwarefoundation.python.3.11_qbz5n2kfra8p0\\localcache\\local-packages\\python311\\site-packages (1.15.3)\n",
      "Requirement already satisfied: numpy in c:\\users\\jpedr\\appdata\\local\\packages\\pythonsoftwarefoundation.python.3.11_qbz5n2kfra8p0\\localcache\\local-packages\\python311\\site-packages (2.2.5)\n",
      "Requirement already satisfied: matplotlib in c:\\users\\jpedr\\appdata\\local\\packages\\pythonsoftwarefoundation.python.3.11_qbz5n2kfra8p0\\localcache\\local-packages\\python311\\site-packages (3.10.3)\n",
      "Requirement already satisfied: seaborn in c:\\users\\jpedr\\appdata\\local\\packages\\pythonsoftwarefoundation.python.3.11_qbz5n2kfra8p0\\localcache\\local-packages\\python311\\site-packages (0.13.2)\n",
      "Requirement already satisfied: python-dateutil>=2.8.2 in c:\\users\\jpedr\\appdata\\local\\packages\\pythonsoftwarefoundation.python.3.11_qbz5n2kfra8p0\\localcache\\local-packages\\python311\\site-packages (from pandas) (2.8.2)\n",
      "Requirement already satisfied: pytz>=2020.1 in c:\\users\\jpedr\\appdata\\local\\packages\\pythonsoftwarefoundation.python.3.11_qbz5n2kfra8p0\\localcache\\local-packages\\python311\\site-packages (from pandas) (2025.2)\n",
      "Requirement already satisfied: tzdata>=2022.7 in c:\\users\\jpedr\\appdata\\local\\packages\\pythonsoftwarefoundation.python.3.11_qbz5n2kfra8p0\\localcache\\local-packages\\python311\\site-packages (from pandas) (2025.2)\n",
      "Requirement already satisfied: contourpy>=1.0.1 in c:\\users\\jpedr\\appdata\\local\\packages\\pythonsoftwarefoundation.python.3.11_qbz5n2kfra8p0\\localcache\\local-packages\\python311\\site-packages (from matplotlib) (1.3.2)\n",
      "Requirement already satisfied: cycler>=0.10 in c:\\users\\jpedr\\appdata\\local\\packages\\pythonsoftwarefoundation.python.3.11_qbz5n2kfra8p0\\localcache\\local-packages\\python311\\site-packages (from matplotlib) (0.12.1)\n",
      "Requirement already satisfied: fonttools>=4.22.0 in c:\\users\\jpedr\\appdata\\local\\packages\\pythonsoftwarefoundation.python.3.11_qbz5n2kfra8p0\\localcache\\local-packages\\python311\\site-packages (from matplotlib) (4.58.0)\n",
      "Requirement already satisfied: kiwisolver>=1.3.1 in c:\\users\\jpedr\\appdata\\local\\packages\\pythonsoftwarefoundation.python.3.11_qbz5n2kfra8p0\\localcache\\local-packages\\python311\\site-packages (from matplotlib) (1.4.8)\n",
      "Requirement already satisfied: packaging>=20.0 in c:\\users\\jpedr\\appdata\\local\\packages\\pythonsoftwarefoundation.python.3.11_qbz5n2kfra8p0\\localcache\\local-packages\\python311\\site-packages (from matplotlib) (23.2)\n",
      "Requirement already satisfied: pillow>=8 in c:\\users\\jpedr\\appdata\\local\\packages\\pythonsoftwarefoundation.python.3.11_qbz5n2kfra8p0\\localcache\\local-packages\\python311\\site-packages (from matplotlib) (11.2.1)\n",
      "Requirement already satisfied: pyparsing>=2.3.1 in c:\\users\\jpedr\\appdata\\local\\packages\\pythonsoftwarefoundation.python.3.11_qbz5n2kfra8p0\\localcache\\local-packages\\python311\\site-packages (from matplotlib) (3.2.3)\n",
      "Requirement already satisfied: six>=1.5 in c:\\users\\jpedr\\appdata\\local\\packages\\pythonsoftwarefoundation.python.3.11_qbz5n2kfra8p0\\localcache\\local-packages\\python311\\site-packages (from python-dateutil>=2.8.2->pandas) (1.16.0)\n",
      "Note: you may need to restart the kernel to use updated packages.\n"
     ]
    },
    {
     "name": "stderr",
     "output_type": "stream",
     "text": [
      "\n",
      "[notice] A new release of pip is available: 23.3.1 -> 25.1.1\n",
      "[notice] To update, run: C:\\Users\\jpedr\\AppData\\Local\\Microsoft\\WindowsApps\\PythonSoftwareFoundation.Python.3.11_qbz5n2kfra8p0\\python.exe -m pip install --upgrade pip\n"
     ]
    }
   ],
   "source": [
    "pip install pandas scipy numpy matplotlib seaborn"
   ]
  },
  {
   "cell_type": "markdown",
   "id": "350fb91a",
   "metadata": {},
   "source": [
    "Website Phishing é um banco de dados que tem como objetivo detectar sites de phishing na web, problema real a respeito da segurança da informação."
   ]
  },
  {
   "cell_type": "code",
   "execution_count": 13,
   "id": "26fbea15",
   "metadata": {},
   "outputs": [],
   "source": [
    "import pandas as pd\n",
    "from scipy.io import arff\n",
    "\n",
    "# Caminho para o arquivo ARFF\n",
    "file_path = \"./PhishingData.arff\"\n",
    "\n",
    "# Carregar os dados do arquivo ARFF\n",
    "data, meta = arff.loadarff(file_path)\n",
    "\n",
    "# Converter para um DataFrame do pandas\n",
    "df = pd.DataFrame(data)"
   ]
  },
  {
   "cell_type": "markdown",
   "id": "6deaee34",
   "metadata": {},
   "source": [
    "Ao baixar o dataset, nos foi retornado um arquivo .arff, utilizamos scipy para a leitura dele e posteriormente o trasnformamos em um DataFrame.\n",
    "\n",
    "A seguir iremos entender um pouco mais sobre a sua estrutura e como os dados são apresentados."
   ]
  },
  {
   "cell_type": "code",
   "execution_count": 14,
   "id": "cfb95280",
   "metadata": {},
   "outputs": [
    {
     "name": "stdout",
     "output_type": "stream",
     "text": [
      "WebPhishing possui 1353 linhas e 10 colunas.\n",
      "Nomes das colunas:\n",
      "['SFH', 'popUpWidnow', 'SSLfinal_State', 'Request_URL', 'URL_of_Anchor', 'web_traffic', 'URL_Length', 'age_of_domain', 'having_IP_Address', 'Result']\n"
     ]
    }
   ],
   "source": [
    "#Exibir o número de linhas e colunas\n",
    "print(f\"WebPhishing possui {df.shape[0]} linhas e {df.shape[1]} colunas.\")\n",
    "\n",
    "# Exibir os nomes das colunas\n",
    "print(\"Nomes das colunas:\")\n",
    "print(df.columns.tolist())"
   ]
  },
  {
   "cell_type": "code",
   "execution_count": 15,
   "id": "7eb3f1c1",
   "metadata": {},
   "outputs": [
    {
     "name": "stdout",
     "output_type": "stream",
     "text": [
      "<class 'pandas.core.frame.DataFrame'>\n",
      "RangeIndex: 1353 entries, 0 to 1352\n",
      "Data columns (total 10 columns):\n",
      " #   Column             Non-Null Count  Dtype \n",
      "---  ------             --------------  ----- \n",
      " 0   SFH                1353 non-null   object\n",
      " 1   popUpWidnow        1353 non-null   object\n",
      " 2   SSLfinal_State     1353 non-null   object\n",
      " 3   Request_URL        1353 non-null   object\n",
      " 4   URL_of_Anchor      1353 non-null   object\n",
      " 5   web_traffic        1353 non-null   object\n",
      " 6   URL_Length         1353 non-null   object\n",
      " 7   age_of_domain      1353 non-null   object\n",
      " 8   having_IP_Address  1353 non-null   object\n",
      " 9   Result             1353 non-null   object\n",
      "dtypes: object(10)\n",
      "memory usage: 105.8+ KB\n",
      "Tipos dos dados:\n",
      "None\n"
     ]
    }
   ],
   "source": [
    "#Exibir os tipos dos dados e número de valores nulos\n",
    "print(f\"Tipos dos dados:\\n{df.info()}\")"
   ]
  },
  {
   "cell_type": "markdown",
   "id": "1c0dc3b7",
   "metadata": {},
   "source": [
    "Nota-se a não presença de valores ausentes, o que nos dá um trabalho a menos."
   ]
  },
  {
   "cell_type": "code",
   "execution_count": 16,
   "id": "44d1e561",
   "metadata": {},
   "outputs": [
    {
     "name": "stdout",
     "output_type": "stream",
     "text": [
      "Primeiras 5 linhas:\n",
      "     SFH popUpWidnow SSLfinal_State Request_URL URL_of_Anchor web_traffic  \\\n",
      "0   b'1'       b'-1'           b'1'       b'-1'         b'-1'        b'1'   \n",
      "1  b'-1'       b'-1'          b'-1'       b'-1'         b'-1'        b'0'   \n",
      "2   b'1'       b'-1'           b'0'        b'0'         b'-1'        b'0'   \n",
      "3   b'1'        b'0'           b'1'       b'-1'         b'-1'        b'0'   \n",
      "4  b'-1'       b'-1'           b'1'       b'-1'          b'0'        b'0'   \n",
      "\n",
      "  URL_Length age_of_domain having_IP_Address Result  \n",
      "0       b'1'          b'1'              b'0'   b'0'  \n",
      "1       b'1'          b'1'              b'1'   b'1'  \n",
      "2      b'-1'          b'1'              b'0'   b'1'  \n",
      "3       b'1'          b'1'              b'0'   b'0'  \n",
      "4      b'-1'          b'1'              b'0'   b'1'  \n"
     ]
    }
   ],
   "source": [
    "#Exibir as primeiras 5 linhas do DataFrame\n",
    "print(f\"Primeiras 5 linhas:\\n{df.head()}\")"
   ]
  },
  {
   "cell_type": "markdown",
   "id": "887dc979",
   "metadata": {},
   "source": [
    "WebPhishing é agrupado em 9 features com seus dados representados de maneira categórica em 3 diferentes tipos: '-1' (negativo), '0'(neutro), '1'(positivo), o resultado é expresso em uma feature 'Result', tambem categórico: '-1' (Phishing), '0' (Neutro), '1' (Legítimo)."
   ]
  },
  {
   "cell_type": "code",
   "execution_count": 17,
   "id": "d1e11371",
   "metadata": {},
   "outputs": [
    {
     "name": "stdout",
     "output_type": "stream",
     "text": [
      "Variáveis únicas:\n",
      "SFH                  3\n",
      "popUpWidnow          3\n",
      "SSLfinal_State       3\n",
      "Request_URL          3\n",
      "URL_of_Anchor        3\n",
      "web_traffic          3\n",
      "URL_Length           3\n",
      "age_of_domain        2\n",
      "having_IP_Address    2\n",
      "Result               3\n",
      "dtype: int64\n"
     ]
    }
   ],
   "source": [
    "#Exibir as variáveis únicas\n",
    "print(f\"Variáveis únicas:\\n{df.nunique()}\")"
   ]
  },
  {
   "cell_type": "markdown",
   "id": "fec61507",
   "metadata": {},
   "source": [
    "Aqui podemos ver a variação dos dados apresentada em cada coluna, com ressalvas para age_of_domain e having_IP_Address que apresentaram apenas dois tipos de variação."
   ]
  },
  {
   "cell_type": "code",
   "execution_count": 22,
   "id": "abdd7a9d",
   "metadata": {},
   "outputs": [
    {
     "name": "stdout",
     "output_type": "stream",
     "text": [
      "SFH: [b'-1', b'0', b'1']\n",
      "popUpWidnow: [b'-1', b'0', b'1']\n",
      "SSLfinal_State: [b'-1', b'0', b'1']\n",
      "Request_URL: [b'-1', b'0', b'1']\n",
      "URL_of_Anchor: [b'-1', b'0', b'1']\n",
      "web_traffic: [b'-1', b'0', b'1']\n",
      "URL_Length: [b'-1', b'0', b'1']\n",
      "age_of_domain: [b'-1', b'1']\n",
      "having_IP_Address: [b'0', b'1']\n",
      "Result: [b'-1', b'0', b'1']\n"
     ]
    }
   ],
   "source": [
    "#Verificando a existência de valores ruídos\n",
    "for col in df.columns:\n",
    "    print(f\"{col}: {sorted(df[col].unique())}\")"
   ]
  },
  {
   "cell_type": "code",
   "execution_count": 19,
   "id": "2089484f",
   "metadata": {},
   "outputs": [
    {
     "data": {
      "image/png": "[encoded data removed]",
      "text/plain": [
       "<Figure size 640x480 with 1 Axes>"
      ]
     },
     "metadata": {},
     "output_type": "display_data"
    }
   ],
   "source": [
    "import seaborn as sns\n",
    "import matplotlib.pyplot as plt\n",
    "\n",
    "sns.countplot(x='Result', data=df)\n",
    "plt.title('Distribuição das classes (Legítimo / Suspeito / Phishing)')\n",
    "plt.xticks(ticks=[0, 1, 2], labels=['Phishing', 'Suspeito', 'Legítimo'])\n",
    "plt.show()\n"
   ]
  },
  {
   "cell_type": "markdown",
   "id": "6d513718",
   "metadata": {},
   "source": [
    "Podemos ver que a maioria dos sites são legítimos, seguidos por sites suspeitos e, por último, os sites de phishing. Isso pode indicar que o conjunto de dados é desbalanceado, o que pode afetar o desempenho dos modelos de aprendizado de máquina. Portanto, será importante considerar técnicas de balanceamento de classes ao treinar modelos com esses dados."
   ]
  },
  {
   "cell_type": "markdown",
   "id": "9048f011",
   "metadata": {},
   "source": [
    "Como queremos prever se um site é phishing ou não, podemos estabelecer que nosso atributo alvo é 'Result'.\n",
    "\n",
    "Vamos ver portanto, atributos que estão mais correlacionados com nosso atributo alvo."
   ]
  },
  {
   "cell_type": "code",
   "execution_count": 24,
   "id": "2bc4ee84",
   "metadata": {},
   "outputs": [
    {
     "name": "stderr",
     "output_type": "stream",
     "text": [
      "C:\\Users\\jpedr\\AppData\\Local\\Temp\\ipykernel_21568\\925951603.py:2: FutureWarning: DataFrame.applymap has been deprecated. Use DataFrame.map instead.\n",
      "  df = df.applymap(lambda x: x.decode('utf-8') if isinstance(x, bytes) else x)\n"
     ]
    }
   ],
   "source": [
    "# Converter tudo de bytes para string\n",
    "df = df.applymap(lambda x: x.decode('utf-8') if isinstance(x, bytes) else x)\n",
    "\n",
    "# Converter para int (se apropriado)\n",
    "df = df.astype(int)\n"
   ]
  },
  {
   "cell_type": "code",
   "execution_count": 25,
   "id": "80c8a79e",
   "metadata": {},
   "outputs": [
    {
     "name": "stdout",
     "output_type": "stream",
     "text": [
      "Result               1.000000\n",
      "SFH                 -0.678277\n",
      "SSLfinal_State      -0.518762\n",
      "popUpWidnow         -0.509749\n",
      "URL_of_Anchor       -0.287007\n",
      "Request_URL         -0.271609\n",
      "web_traffic          0.243896\n",
      "age_of_domain       -0.231931\n",
      "URL_Length          -0.183061\n",
      "having_IP_Address   -0.059225\n",
      "Name: Result, dtype: float64\n"
     ]
    }
   ],
   "source": [
    "correlation = df.corr(numeric_only=True)['Result'].sort_values(key=abs, ascending=False)\n",
    "print(correlation)"
   ]
  },
  {
   "cell_type": "code",
   "execution_count": 27,
   "id": "362eb90d",
   "metadata": {},
   "outputs": [
    {
     "data": {
      "image/png": "[encoded data removed]",
      "text/plain": [
       "<Figure size 800x1000 with 1 Axes>"
      ]
     },
     "metadata": {},
     "output_type": "display_data"
    }
   ],
   "source": [
    "correlation.drop('Result').plot(kind='barh', figsize=(8, 10))\n",
    "plt.title('Correlação com o atributo alvo (Result)')\n",
    "plt.xlabel('Coeficiente de Correlação de Pearson')\n",
    "plt.grid(True)\n",
    "plt.tight_layout()\n",
    "plt.show()"
   ]
  },
  {
   "cell_type": "code",
   "execution_count": null,
   "id": "adf7efd8",
   "metadata": {},
   "outputs": [],
   "source": []
  }
 ],
 "metadata": {
  "kernelspec": {
   "display_name": "Python 3",
   "language": "python",
   "name": "python3"
  },
  "language_info": {
   "codemirror_mode": {
    "name": "ipython",
    "version": 3
   },
   "file_extension": ".py",
   "mimetype": "text/x-python",
   "name": "python",
   "nbconvert_exporter": "python",
   "pygments_lexer": "ipython3",
   "version": "3.11.9"
  }
 },
 "nbformat": 4,
 "nbformat_minor": 5
}
