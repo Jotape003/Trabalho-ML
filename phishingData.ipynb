{
 "cells": [
  {
   "cell_type": "code",
   "execution_count": 22,
   "id": "990ff1d3",
   "metadata": {},
   "outputs": [
    {
     "name": "stdout",
     "output_type": "stream",
     "text": [
      "Requirement already satisfied: pandas in c:\\users\\jpedr\\appdata\\local\\packages\\pythonsoftwarefoundation.python.3.11_qbz5n2kfra8p0\\localcache\\local-packages\\python311\\site-packages (2.2.3)\n",
      "Requirement already satisfied: scipy in c:\\users\\jpedr\\appdata\\local\\packages\\pythonsoftwarefoundation.python.3.11_qbz5n2kfra8p0\\localcache\\local-packages\\python311\\site-packages (1.15.3)\n",
      "Requirement already satisfied: numpy in c:\\users\\jpedr\\appdata\\local\\packages\\pythonsoftwarefoundation.python.3.11_qbz5n2kfra8p0\\localcache\\local-packages\\python311\\site-packages (2.2.5)\n",
      "Requirement already satisfied: matplotlib in c:\\users\\jpedr\\appdata\\local\\packages\\pythonsoftwarefoundation.python.3.11_qbz5n2kfra8p0\\localcache\\local-packages\\python311\\site-packages (3.10.3)\n",
      "Requirement already satisfied: seaborn in c:\\users\\jpedr\\appdata\\local\\packages\\pythonsoftwarefoundation.python.3.11_qbz5n2kfra8p0\\localcache\\local-packages\\python311\\site-packages (0.13.2)\n",
      "Requirement already satisfied: python-dateutil>=2.8.2 in c:\\users\\jpedr\\appdata\\local\\packages\\pythonsoftwarefoundation.python.3.11_qbz5n2kfra8p0\\localcache\\local-packages\\python311\\site-packages (from pandas) (2.8.2)\n",
      "Requirement already satisfied: pytz>=2020.1 in c:\\users\\jpedr\\appdata\\local\\packages\\pythonsoftwarefoundation.python.3.11_qbz5n2kfra8p0\\localcache\\local-packages\\python311\\site-packages (from pandas) (2025.2)\n",
      "Requirement already satisfied: tzdata>=2022.7 in c:\\users\\jpedr\\appdata\\local\\packages\\pythonsoftwarefoundation.python.3.11_qbz5n2kfra8p0\\localcache\\local-packages\\python311\\site-packages (from pandas) (2025.2)\n",
      "Requirement already satisfied: contourpy>=1.0.1 in c:\\users\\jpedr\\appdata\\local\\packages\\pythonsoftwarefoundation.python.3.11_qbz5n2kfra8p0\\localcache\\local-packages\\python311\\site-packages (from matplotlib) (1.3.2)\n",
      "Requirement already satisfied: cycler>=0.10 in c:\\users\\jpedr\\appdata\\local\\packages\\pythonsoftwarefoundation.python.3.11_qbz5n2kfra8p0\\localcache\\local-packages\\python311\\site-packages (from matplotlib) (0.12.1)\n",
      "Requirement already satisfied: fonttools>=4.22.0 in c:\\users\\jpedr\\appdata\\local\\packages\\pythonsoftwarefoundation.python.3.11_qbz5n2kfra8p0\\localcache\\local-packages\\python311\\site-packages (from matplotlib) (4.58.0)\n",
      "Requirement already satisfied: kiwisolver>=1.3.1 in c:\\users\\jpedr\\appdata\\local\\packages\\pythonsoftwarefoundation.python.3.11_qbz5n2kfra8p0\\localcache\\local-packages\\python311\\site-packages (from matplotlib) (1.4.8)\n",
      "Requirement already satisfied: packaging>=20.0 in c:\\users\\jpedr\\appdata\\local\\packages\\pythonsoftwarefoundation.python.3.11_qbz5n2kfra8p0\\localcache\\local-packages\\python311\\site-packages (from matplotlib) (23.2)\n",
      "Requirement already satisfied: pillow>=8 in c:\\users\\jpedr\\appdata\\local\\packages\\pythonsoftwarefoundation.python.3.11_qbz5n2kfra8p0\\localcache\\local-packages\\python311\\site-packages (from matplotlib) (11.2.1)\n",
      "Requirement already satisfied: pyparsing>=2.3.1 in c:\\users\\jpedr\\appdata\\local\\packages\\pythonsoftwarefoundation.python.3.11_qbz5n2kfra8p0\\localcache\\local-packages\\python311\\site-packages (from matplotlib) (3.2.3)\n",
      "Requirement already satisfied: six>=1.5 in c:\\users\\jpedr\\appdata\\local\\packages\\pythonsoftwarefoundation.python.3.11_qbz5n2kfra8p0\\localcache\\local-packages\\python311\\site-packages (from python-dateutil>=2.8.2->pandas) (1.16.0)\n",
      "Note: you may need to restart the kernel to use updated packages.\n"
     ]
    },
    {
     "name": "stderr",
     "output_type": "stream",
     "text": [
      "\n",
      "[notice] A new release of pip is available: 23.3.1 -> 25.1.1\n",
      "[notice] To update, run: C:\\Users\\jpedr\\AppData\\Local\\Microsoft\\WindowsApps\\PythonSoftwareFoundation.Python.3.11_qbz5n2kfra8p0\\python.exe -m pip install --upgrade pip\n"
     ]
    }
   ],
   "source": [
    "pip install pandas scipy numpy matplotlib seaborn"
   ]
  },
  {
   "cell_type": "code",
   "execution_count": 23,
   "id": "26fbea15",
   "metadata": {},
   "outputs": [],
   "source": [
    "import pandas as pd\n",
    "from scipy.io import arff\n",
    "\n",
    "# Caminho para o arquivo ARFF\n",
    "file_path = \"./PhishingData.arff\"\n",
    "\n",
    "# Carregar os dados do arquivo ARFF\n",
    "data, meta = arff.loadarff(file_path)\n",
    "\n",
    "# Converter para um DataFrame do pandas\n",
    "df = pd.DataFrame(data)"
   ]
  },
  {
   "cell_type": "code",
   "execution_count": 24,
   "id": "cfb95280",
   "metadata": {},
   "outputs": [
    {
     "name": "stdout",
     "output_type": "stream",
     "text": [
      "Número de linhas e colunas: (1353, 10)\n"
     ]
    }
   ],
   "source": [
    "#Exibir o número de linhas e colunas\n",
    "print(f\"Número de linhas e colunas: {df.shape}\")"
   ]
  },
  {
   "cell_type": "code",
   "execution_count": 25,
   "id": "7eb3f1c1",
   "metadata": {},
   "outputs": [
    {
     "name": "stdout",
     "output_type": "stream",
     "text": [
      "<class 'pandas.core.frame.DataFrame'>\n",
      "RangeIndex: 1353 entries, 0 to 1352\n",
      "Data columns (total 10 columns):\n",
      " #   Column             Non-Null Count  Dtype \n",
      "---  ------             --------------  ----- \n",
      " 0   SFH                1353 non-null   object\n",
      " 1   popUpWidnow        1353 non-null   object\n",
      " 2   SSLfinal_State     1353 non-null   object\n",
      " 3   Request_URL        1353 non-null   object\n",
      " 4   URL_of_Anchor      1353 non-null   object\n",
      " 5   web_traffic        1353 non-null   object\n",
      " 6   URL_Length         1353 non-null   object\n",
      " 7   age_of_domain      1353 non-null   object\n",
      " 8   having_IP_Address  1353 non-null   object\n",
      " 9   Result             1353 non-null   object\n",
      "dtypes: object(10)\n",
      "memory usage: 105.8+ KB\n",
      "Tipos dos dados:\n",
      "None\n"
     ]
    }
   ],
   "source": [
    "#Exibir os tipos dos dados e número de valores nulos\n",
    "print(f\"Tipos dos dados:\\n{df.info()}\")"
   ]
  },
  {
   "cell_type": "code",
   "execution_count": 26,
   "id": "44d1e561",
   "metadata": {},
   "outputs": [
    {
     "name": "stdout",
     "output_type": "stream",
     "text": [
      "Primeiras 5 linhas:\n",
      "     SFH popUpWidnow SSLfinal_State Request_URL URL_of_Anchor web_traffic  \\\n",
      "0   b'1'       b'-1'           b'1'       b'-1'         b'-1'        b'1'   \n",
      "1  b'-1'       b'-1'          b'-1'       b'-1'         b'-1'        b'0'   \n",
      "2   b'1'       b'-1'           b'0'        b'0'         b'-1'        b'0'   \n",
      "3   b'1'        b'0'           b'1'       b'-1'         b'-1'        b'0'   \n",
      "4  b'-1'       b'-1'           b'1'       b'-1'          b'0'        b'0'   \n",
      "\n",
      "  URL_Length age_of_domain having_IP_Address Result  \n",
      "0       b'1'          b'1'              b'0'   b'0'  \n",
      "1       b'1'          b'1'              b'1'   b'1'  \n",
      "2      b'-1'          b'1'              b'0'   b'1'  \n",
      "3       b'1'          b'1'              b'0'   b'0'  \n",
      "4      b'-1'          b'1'              b'0'   b'1'  \n"
     ]
    }
   ],
   "source": [
    "#Exibir as primeiras 5 linhas do DataFrame\n",
    "print(f\"Primeiras 5 linhas:\\n{df.head()}\")"
   ]
  },
  {
   "cell_type": "code",
   "execution_count": 27,
   "id": "d1e11371",
   "metadata": {},
   "outputs": [
    {
     "name": "stdout",
     "output_type": "stream",
     "text": [
      "Variáveis únicas:\n",
      "SFH                  3\n",
      "popUpWidnow          3\n",
      "SSLfinal_State       3\n",
      "Request_URL          3\n",
      "URL_of_Anchor        3\n",
      "web_traffic          3\n",
      "URL_Length           3\n",
      "age_of_domain        2\n",
      "having_IP_Address    2\n",
      "Result               3\n",
      "dtype: int64\n"
     ]
    }
   ],
   "source": [
    "#Exibir as variáveis únicas\n",
    "print(f\"Variáveis únicas:\\n{df.nunique()}\")"
   ]
  },
  {
   "cell_type": "code",
   "execution_count": 28,
   "id": "2089484f",
   "metadata": {},
   "outputs": [
    {
     "data": {
      "image/png": "[encoded data removed]",
      "text/plain": [
       "<Figure size 640x480 with 1 Axes>"
      ]
     },
     "metadata": {},
     "output_type": "display_data"
    }
   ],
   "source": [
    "import seaborn as sns\n",
    "import matplotlib.pyplot as plt\n",
    "\n",
    "sns.countplot(x='Result', data=df)\n",
    "plt.title('Distribuição das classes (Legítimo / Suspeito / Phishing)')\n",
    "plt.xticks(ticks=[0, 1, 2], labels=['Phishing', 'Suspeito', 'Legítimo'])\n",
    "plt.show()\n"
   ]
  },
  {
   "cell_type": "code",
   "execution_count": null,
   "id": "c781a4a8",
   "metadata": {},
   "outputs": [],
   "source": []
  }
 ],
 "metadata": {
  "kernelspec": {
   "display_name": "Python 3",
   "language": "python",
   "name": "python3"
  },
  "language_info": {
   "codemirror_mode": {
    "name": "ipython",
    "version": 3
   },
   "file_extension": ".py",
   "mimetype": "text/x-python",
   "name": "python",
   "nbconvert_exporter": "python",
   "pygments_lexer": "ipython3",
   "version": "3.11.9"
  }
 },
 "nbformat": 4,
 "nbformat_minor": 5
}
